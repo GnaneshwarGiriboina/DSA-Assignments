{
 "cells": [
  {
   "cell_type": "code",
   "execution_count": 1,
   "id": "c925af2b",
   "metadata": {},
   "outputs": [
    {
     "name": "stdout",
     "output_type": "stream",
     "text": [
      "Enter the elements of the array: 1 4 3 2\n",
      "Output: 4\n"
     ]
    }
   ],
   "source": [
    "def arrayPairSum(nums):\n",
    "    nums.sort()\n",
    "    total_sum = 0\n",
    "\n",
    "    for i in range(0, len(nums), 2):\n",
    "        total_sum += nums[i]\n",
    "\n",
    "    return total_sum\n",
    "\n",
    "nums = input(\"Enter the elements of the array: \").split()\n",
    "nums = [int(num) for num in nums]\n",
    "\n",
    "result = arrayPairSum(nums)\n",
    "print(f\"Output: {result}\")\n"
   ]
  },
  {
   "cell_type": "code",
   "execution_count": 2,
   "id": "4d089070",
   "metadata": {},
   "outputs": [
    {
     "name": "stdout",
     "output_type": "stream",
     "text": [
      "Enter the types of candies: 1 1 2 2 3 3\n",
      "Output: 3\n"
     ]
    }
   ],
   "source": [
    "def maxNumberOfDifferentTypes(candyType):\n",
    "    unique_types = len(set(candyType))\n",
    "    max_candies = len(candyType) // 2\n",
    "    return min(unique_types, max_candies)\n",
    "\n",
    "\n",
    "candyType = input(\"Enter the types of candies: \").split()\n",
    "candyType = [int(candy) for candy in candyType]\n",
    "\n",
    "result = maxNumberOfDifferentTypes(candyType)\n",
    "print(f\"Output: {result}\")\n"
   ]
  },
  {
   "cell_type": "code",
   "execution_count": 3,
   "id": "124a4805",
   "metadata": {},
   "outputs": [
    {
     "name": "stdout",
     "output_type": "stream",
     "text": [
      "Enter the elements of the array: 1 3 2 2 5 2 3 7\n",
      "Output: 5\n"
     ]
    }
   ],
   "source": [
    "def findLHS(nums):\n",
    "    frequency = {}\n",
    "    max_length = 0\n",
    "\n",
    "    for num in nums:\n",
    "        frequency[num] = frequency.get(num, 0) + 1\n",
    "\n",
    "    for num in frequency:\n",
    "        if num + 1 in frequency:\n",
    "            length = frequency[num] + frequency[num + 1]\n",
    "            max_length = max(max_length, length)\n",
    "\n",
    "    return max_length\n",
    "\n",
    "nums = input(\"Enter the elements of the array: \").split()\n",
    "nums = [int(num) for num in nums]\n",
    "\n",
    "result = findLHS(nums)\n",
    "print(f\"Output: {result}\")\n"
   ]
  },
  {
   "cell_type": "code",
   "execution_count": 5,
   "id": "538889db",
   "metadata": {},
   "outputs": [
    {
     "name": "stdout",
     "output_type": "stream",
     "text": [
      "Enter the elements of the flowerbed: 1 0 0 0 1\n",
      "Enter the number of new flowers: 1\n",
      "Output: True\n"
     ]
    }
   ],
   "source": [
    "def canPlaceFlowers(flowerbed, n):\n",
    "    i = 0\n",
    "    count = 0\n",
    "\n",
    "    while i < len(flowerbed):\n",
    "        if flowerbed[i] == 0 and (i == 0 or flowerbed[i - 1] == 0) and (i == len(flowerbed) - 1 or flowerbed[i + 1] == 0):\n",
    "            flowerbed[i] = 1\n",
    "            count += 1\n",
    "        i += 1\n",
    "\n",
    "    return count >= n\n",
    "\n",
    "flowerbed = input(\"Enter the elements of the flowerbed: \").split()\n",
    "flowerbed = [int(plot) for plot in flowerbed]\n",
    "\n",
    "n = int(input(\"Enter the number of new flowers: \"))\n",
    "\n",
    "result = canPlaceFlowers(flowerbed, n)\n",
    "print(\"Output:\" , result)"
   ]
  },
  {
   "cell_type": "code",
   "execution_count": 6,
   "id": "1818ee29",
   "metadata": {},
   "outputs": [
    {
     "name": "stdout",
     "output_type": "stream",
     "text": [
      "Enter the elements of the array: 1 2 3\n",
      "Output: 6\n"
     ]
    }
   ],
   "source": [
    "def maximumProduct(nums):\n",
    "    nums.sort()\n",
    "    n = len(nums)\n",
    "\n",
    "    return max(nums[n-1] * nums[n-2] * nums[n-3], nums[0] * nums[1] * nums[n-1])\n",
    "\n",
    "nums = input(\"Enter the elements of the array: \").split()\n",
    "nums = [int(num) for num in nums]\n",
    "\n",
    "result = maximumProduct(nums)\n",
    "print(f\"Output: {result}\")\n"
   ]
  },
  {
   "cell_type": "code",
   "execution_count": 7,
   "id": "ffa4a6e5",
   "metadata": {},
   "outputs": [
    {
     "name": "stdout",
     "output_type": "stream",
     "text": [
      "Enter the elements of the array: -1 0 3 5 9 12\n",
      "Enter the target number: 9\n",
      "Output: 4\n"
     ]
    }
   ],
   "source": [
    "def search(nums, target):\n",
    "    left = 0\n",
    "    right = len(nums) - 1\n",
    "\n",
    "    while left <= right:\n",
    "        mid = left + (right - left) // 2\n",
    "\n",
    "        if nums[mid] == target:\n",
    "            return mid\n",
    "        elif nums[mid] < target:\n",
    "            left = mid + 1\n",
    "        else:\n",
    "            right = mid - 1\n",
    "\n",
    "    return -1\n",
    "\n",
    "nums = input(\"Enter the elements of the array: \").split()\n",
    "nums = [int(num) for num in nums]\n",
    "\n",
    "target = int(input(\"Enter the target number: \"))\n",
    "\n",
    "result = search(nums, target)\n",
    "print(f\"Output: {result}\")\n"
   ]
  },
  {
   "cell_type": "code",
   "execution_count": 8,
   "id": "2570f60d",
   "metadata": {},
   "outputs": [
    {
     "name": "stdout",
     "output_type": "stream",
     "text": [
      "Enter the elements of the array: 1 2 2 3\n",
      "Output: True\n"
     ]
    }
   ],
   "source": [
    "def isMonotonic(nums):\n",
    "    n = len(nums)\n",
    "    increasing = decreasing = True\n",
    "\n",
    "    for i in range(1, n):\n",
    "        if nums[i] < nums[i - 1]:\n",
    "            increasing = False\n",
    "        if nums[i] > nums[i - 1]:\n",
    "            decreasing = False\n",
    "\n",
    "    return increasing or decreasing\n",
    "\n",
    "nums = input(\"Enter the elements of the array: \").split()\n",
    "nums = [int(num) for num in nums]\n",
    "\n",
    "result = isMonotonic(nums)\n",
    "print(f\"Output: {result}\")\n"
   ]
  },
  {
   "cell_type": "code",
   "execution_count": 9,
   "id": "8e0a7d31",
   "metadata": {},
   "outputs": [
    {
     "name": "stdout",
     "output_type": "stream",
     "text": [
      "Enter the elements of the array: 1\n",
      "Enter the value of k: 0\n",
      "Output: 0\n"
     ]
    }
   ],
   "source": [
    "def minimumDifference(nums, k):\n",
    "    nums.sort()\n",
    "    n = len(nums)\n",
    "    min_score = nums[n - 1] - nums[0]\n",
    "\n",
    "    for i in range(1, n):\n",
    "        min_val = min(nums[0] + k, nums[i] - k)\n",
    "        max_val = max(nums[i - 1] + k, nums[n - 1] - k)\n",
    "        min_score = min(min_score, max_val - min_val)\n",
    "\n",
    "    return min_score\n",
    "\n",
    "\n",
    "nums = input(\"Enter the elements of the array: \").split()\n",
    "nums = [int(num) for num in nums]\n",
    "\n",
    "k = int(input(\"Enter the value of k: \"))\n",
    "\n",
    "result = minimumDifference(nums, k)\n",
    "print(f\"Output: {result}\")\n"
   ]
  },
  {
   "cell_type": "code",
   "execution_count": null,
   "id": "036f2355",
   "metadata": {},
   "outputs": [],
   "source": []
  }
 ],
 "metadata": {
  "kernelspec": {
   "display_name": "Python 3 (ipykernel)",
   "language": "python",
   "name": "python3"
  },
  "language_info": {
   "codemirror_mode": {
    "name": "ipython",
    "version": 3
   },
   "file_extension": ".py",
   "mimetype": "text/x-python",
   "name": "python",
   "nbconvert_exporter": "python",
   "pygments_lexer": "ipython3",
   "version": "3.9.12"
  }
 },
 "nbformat": 4,
 "nbformat_minor": 5
}
