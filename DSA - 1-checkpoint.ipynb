{
 "cells": [
  {
   "cell_type": "code",
   "execution_count": 3,
   "id": "8e81c842",
   "metadata": {},
   "outputs": [
    {
     "name": "stdout",
     "output_type": "stream",
     "text": [
      "Enter the array of integers: 2 7 11 15\n",
      "Enter the target value: 9\n",
      "[0, 1]\n"
     ]
    }
   ],
   "source": [
    "def twoSum(nums, target):\n",
    "    num_dict = {}\n",
    "    for i in range(len(nums)):\n",
    "        num = nums[i]\n",
    "        complement = target - num\n",
    "        if complement in num_dict:\n",
    "            return [num_dict[complement], i]\n",
    "        num_dict[num] = i\n",
    "    return []\n",
    "\n",
    "\n",
    "nums = list(map(int, input(\"Enter the array of integers: \").split()))\n",
    "target = int(input(\"Enter the target value: \"))\n",
    "\n",
    "result = twoSum(nums, target)\n",
    "print(result)\n"
   ]
  },
  {
   "cell_type": "code",
   "execution_count": 1,
   "id": "ace24281",
   "metadata": {},
   "outputs": [
    {
     "name": "stdout",
     "output_type": "stream",
     "text": [
      "Enter the elements of the array: 3 2 2 3\n",
      "Enter the value to remove: 2\n",
      "Output: 2, nums = [3, 3, _, _]\n"
     ]
    }
   ],
   "source": [
    "def removeElement(nums, val):\n",
    "    i = 0  # Pointer for overwriting elements\n",
    "    for j in range(len(nums)):\n",
    "        if nums[j] != val:\n",
    "            nums[i] = nums[j]\n",
    "            i += 1\n",
    "    return i, nums[:i] + ['_'] * (len(nums) - i)\n",
    "\n",
    "nums = input(\"Enter the elements of the array: \").split()\n",
    "nums = [int(num) for num in nums]\n",
    "val = int(input(\"Enter the value to remove: \"))\n",
    "result, modified_nums = removeElement(nums, val)\n",
    "modified_nums = [str(num) for num in modified_nums] \n",
    "print(f\"Output: {result}, nums = [{', '.join(modified_nums)}]\")"
   ]
  },
  {
   "cell_type": "code",
   "execution_count": null,
   "id": "eb070dbf",
   "metadata": {},
   "outputs": [],
   "source": [
    "def searchInsert(nums, target):\n",
    "    left, right = 0, len(nums) - 1\n",
    "\n",
    "    while left <= right:\n",
    "        mid = (left + right) // 2\n",
    "\n",
    "        if nums[mid] == target:\n",
    "            return mid\n",
    "        elif nums[mid] < target:\n",
    "            left = mid + 1\n",
    "        else:\n",
    "            right = mid - 1\n",
    "\n",
    "    return left\n",
    "\n",
    "nums = input(\"Enter the elements of the sorted array: \").split()\n",
    "nums = [int(num) for num in nums]\n",
    "\n",
    "target = int(input(\"Enter the target value: \"))\n",
    "\n",
    "result = searchInsert(nums, target)\n",
    "print(f\"Output: {result}\")\n"
   ]
  },
  {
   "cell_type": "code",
   "execution_count": 8,
   "id": "23fb9360",
   "metadata": {},
   "outputs": [
    {
     "name": "stdout",
     "output_type": "stream",
     "text": [
      "Enter the digits of the large integer: 1 2 3\n",
      "Output: [1, 2, 4]\n"
     ]
    }
   ],
   "source": [
    "def plusOne(digits):\n",
    "    n = len(digits)\n",
    "    carry = 1\n",
    "\n",
    "    for i in range(n - 1, -1, -1):\n",
    "        digits[i] += carry\n",
    "\n",
    "        if digits[i] < 10:\n",
    "            carry = 0\n",
    "            break\n",
    "        else:\n",
    "            digits[i] = 0\n",
    "\n",
    "    if carry == 1:\n",
    "        digits.insert(0, 1)\n",
    "\n",
    "    return digits\n",
    "\n",
    "digits = input(\"Enter the digits of the large integer: \").split()\n",
    "digits = [int(digit) for digit in digits]\n",
    "\n",
    "result = plusOne(digits)\n",
    "print(\"Output:\", result)\n"
   ]
  },
  {
   "cell_type": "code",
   "execution_count": 10,
   "id": "e8f4da95",
   "metadata": {},
   "outputs": [
    {
     "name": "stdout",
     "output_type": "stream",
     "text": [
      "Enter the elements of nums1 array: 1 2 3 0 0 0\n",
      "Enter the number of elements in nums1: 3\n",
      "Enter the elements of nums2 array: 2 5 6\n",
      "Enter the number of elements in nums2: 3\n",
      "Output: [1, 2, 2, 3, 5, 6]\n"
     ]
    }
   ],
   "source": [
    "def merge(nums1, m, nums2, n):\n",
    "    i, j, k = m - 1, n - 1, m + n - 1\n",
    "\n",
    "    while i >= 0 and j >= 0:\n",
    "        if nums1[i] >= nums2[j]:\n",
    "            nums1[k] = nums1[i]\n",
    "            i -= 1\n",
    "        else:\n",
    "            nums1[k] = nums2[j]\n",
    "            j -= 1\n",
    "        k -= 1\n",
    "\n",
    "    while j >= 0:\n",
    "        nums1[k] = nums2[j]\n",
    "        j -= 1\n",
    "        k -= 1\n",
    "\n",
    "    return nums1\n",
    "\n",
    "nums1 = input(\"Enter the elements of nums1 array: \").split()\n",
    "nums1 = [int(num) for num in nums1]\n",
    "m = int(input(\"Enter the number of elements in nums1: \"))\n",
    "\n",
    "nums2 = input(\"Enter the elements of nums2 array: \").split()\n",
    "nums2 = [int(num) for num in nums2]\n",
    "n = int(input(\"Enter the number of elements in nums2: \"))\n",
    "\n",
    "result = merge(nums1, m, nums2, n)\n",
    "print(f\"Output: {result}\")"
   ]
  },
  {
   "cell_type": "code",
   "execution_count": 1,
   "id": "7ee73a9e",
   "metadata": {},
   "outputs": [
    {
     "name": "stdout",
     "output_type": "stream",
     "text": [
      "Enter the elements of the array: 1 2 3 1\n",
      "Output: True\n"
     ]
    }
   ],
   "source": [
    "def containsDuplicate(nums):\n",
    "    seen = set()\n",
    "\n",
    "    for num in nums:\n",
    "        if num in seen:\n",
    "            return True\n",
    "        seen.add(num)\n",
    "\n",
    "    return False\n",
    "\n",
    "nums = input(\"Enter the elements of the array: \").split()\n",
    "nums = [int(num) for num in nums]\n",
    "\n",
    "result = containsDuplicate(nums)\n",
    "print(\"Output:\", result)\n"
   ]
  },
  {
   "cell_type": "code",
   "execution_count": 2,
   "id": "1d5ae1a7",
   "metadata": {},
   "outputs": [
    {
     "name": "stdout",
     "output_type": "stream",
     "text": [
      "Enter the elements of the array: 0 1 0 3 12\n",
      "Output: [1, 3, 12, 0, 0]\n"
     ]
    }
   ],
   "source": [
    "def moveZeroes(nums):\n",
    "    left = 0\n",
    "    n = len(nums)\n",
    "\n",
    "    for right in range(n):\n",
    "        if nums[right] != 0:\n",
    "            nums[left] = nums[right]\n",
    "            left += 1\n",
    "\n",
    "    for i in range(left, n):\n",
    "        nums[i] = 0\n",
    "\n",
    "    return nums\n",
    "\n",
    "\n",
    "nums = input(\"Enter the elements of the array: \").split()\n",
    "nums = [int(num) for num in nums]\n",
    "\n",
    "result = moveZeroes(nums)\n",
    "print(f\"Output: {result}\")\n"
   ]
  },
  {
   "cell_type": "code",
   "execution_count": 3,
   "id": "423ac395",
   "metadata": {},
   "outputs": [
    {
     "name": "stdout",
     "output_type": "stream",
     "text": [
      "Enter the elements of the array : 1 2 2 4\n",
      "Output: [2, 3]\n"
     ]
    }
   ],
   "source": [
    "def findErrorNums(nums):\n",
    "    n = len(nums)\n",
    "    frequency = {}\n",
    "    duplicate_number = -1\n",
    "\n",
    "    for num in nums:\n",
    "        frequency[num] = frequency.get(num, 0) + 1\n",
    "        if frequency[num] == 2:\n",
    "            duplicate_number = num\n",
    "\n",
    "    missing_number = sum(range(1, n+1)) - sum(nums) + duplicate_number\n",
    "\n",
    "    return [duplicate_number, missing_number]\n",
    "\n",
    "nums = input(\"Enter the elements of the array : \").split()\n",
    "nums = [int(num) for num in nums]\n",
    "\n",
    "result = findErrorNums(nums)\n",
    "print(\"Output:\", result)\n"
   ]
  },
  {
   "cell_type": "code",
   "execution_count": null,
   "id": "6d785275",
   "metadata": {},
   "outputs": [],
   "source": []
  }
 ],
 "metadata": {
  "kernelspec": {
   "display_name": "Python 3 (ipykernel)",
   "language": "python",
   "name": "python3"
  },
  "language_info": {
   "codemirror_mode": {
    "name": "ipython",
    "version": 3
   },
   "file_extension": ".py",
   "mimetype": "text/x-python",
   "name": "python",
   "nbconvert_exporter": "python",
   "pygments_lexer": "ipython3",
   "version": "3.9.12"
  }
 },
 "nbformat": 4,
 "nbformat_minor": 5
}
