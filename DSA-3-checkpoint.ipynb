{
 "cells": [
  {
   "cell_type": "code",
   "execution_count": 1,
   "id": "4553622a",
   "metadata": {},
   "outputs": [
    {
     "name": "stdout",
     "output_type": "stream",
     "text": [
      "Enter the elements of the array: -1 2 1 -4\n",
      "Enter the target sum: 1\n",
      "Output: 2\n"
     ]
    }
   ],
   "source": [
    "def threeSumClosest(nums, target):\n",
    "    nums.sort()\n",
    "    n = len(nums)\n",
    "    closest_sum = float('inf')\n",
    "\n",
    "    for i in range(n-2):\n",
    "        left = i + 1\n",
    "        right = n - 1\n",
    "\n",
    "        while left < right:\n",
    "            current_sum = nums[i] + nums[left] + nums[right]\n",
    "\n",
    "            if current_sum == target:\n",
    "                return current_sum\n",
    "\n",
    "            if abs(current_sum - target) < abs(closest_sum - target):\n",
    "                closest_sum = current_sum\n",
    "\n",
    "            if current_sum < target:\n",
    "                left += 1\n",
    "            else:\n",
    "                right -= 1\n",
    "\n",
    "    return closest_sum\n",
    "\n",
    "nums = input(\"Enter the elements of the array: \").split()\n",
    "nums = [int(num) for num in nums]\n",
    "\n",
    "target = int(input(\"Enter the target sum: \"))\n",
    "\n",
    "result = threeSumClosest(nums, target)\n",
    "print(f\"Output: {result}\")\n"
   ]
  },
  {
   "cell_type": "code",
   "execution_count": 2,
   "id": "80f877b7",
   "metadata": {},
   "outputs": [
    {
     "name": "stdout",
     "output_type": "stream",
     "text": [
      "Enter the elements of the array: 1 0 -1 0 -2 2\n",
      "Enter the target sum: 0\n",
      "Output: [[-2, -1, 1, 2], [-2, 0, 0, 2], [-1, 0, 0, 1]]\n"
     ]
    }
   ],
   "source": [
    "def fourSum(nums, target):\n",
    "    nums.sort()\n",
    "    n = len(nums)\n",
    "    quadruplets = []\n",
    "\n",
    "    for i in range(n - 3):\n",
    "        if i > 0 and nums[i] == nums[i - 1]:\n",
    "            continue\n",
    "\n",
    "        for j in range(i + 1, n - 2):\n",
    "            if j > i + 1 and nums[j] == nums[j - 1]:\n",
    "                continue\n",
    "\n",
    "            left = j + 1\n",
    "            right = n - 1\n",
    "\n",
    "            while left < right:\n",
    "                current_sum = nums[i] + nums[j] + nums[left] + nums[right]\n",
    "\n",
    "                if current_sum == target:\n",
    "                    quadruplets.append([nums[i], nums[j], nums[left], nums[right]])\n",
    "                    while left < right and nums[left] == nums[left + 1]:\n",
    "                        left += 1\n",
    "                    while left < right and nums[right] == nums[right - 1]:\n",
    "                        right -= 1\n",
    "\n",
    "                    left += 1\n",
    "                    right -= 1\n",
    "                elif current_sum < target:\n",
    "                    left += 1\n",
    "                else:\n",
    "                    right -= 1\n",
    "\n",
    "    return quadruplets\n",
    "\n",
    "nums = input(\"Enter the elements of the array: \").split()\n",
    "nums = [int(num) for num in nums]\n",
    "\n",
    "target = int(input(\"Enter the target sum: \"))\n",
    "\n",
    "result = fourSum(nums, target)\n",
    "print(f\"Output: {result}\")\n"
   ]
  },
  {
   "cell_type": "code",
   "execution_count": 3,
   "id": "8e77ca69",
   "metadata": {},
   "outputs": [
    {
     "name": "stdout",
     "output_type": "stream",
     "text": [
      "Enter the elements of the array: 1 2 3\n",
      "Output: [1, 3, 2]\n"
     ]
    }
   ],
   "source": [
    "def nextPermutation(nums):\n",
    "    n = len(nums)\n",
    "    i = n - 2\n",
    "\n",
    "    while i >= 0 and nums[i] >= nums[i+1]:\n",
    "        i -= 1\n",
    "\n",
    "    if i >= 0:\n",
    "        j = n - 1\n",
    "        while j > i and nums[j] <= nums[i]:\n",
    "            j -= 1\n",
    "\n",
    "        nums[i], nums[j] = nums[j], nums[i]\n",
    "\n",
    "    left = i + 1\n",
    "    right = n - 1\n",
    "    while left < right:\n",
    "        nums[left], nums[right] = nums[right], nums[left]\n",
    "        left += 1\n",
    "        right -= 1\n",
    "\n",
    "    return nums\n",
    "\n",
    "nums = input(\"Enter the elements of the array: \").split()\n",
    "nums = [int(num) for num in nums]\n",
    "\n",
    "result = nextPermutation(nums)\n",
    "print(f\"Output: {result}\")\n"
   ]
  },
  {
   "cell_type": "code",
   "execution_count": 4,
   "id": "4d19c54a",
   "metadata": {},
   "outputs": [
    {
     "name": "stdout",
     "output_type": "stream",
     "text": [
      "Enter the elements of the array: 1 3 5 6\n",
      "Enter the target value: 5\n",
      "Output: 2\n"
     ]
    }
   ],
   "source": [
    "def searchInsert(nums, target):\n",
    "    left = 0\n",
    "    right = len(nums) - 1\n",
    "\n",
    "    while left <= right:\n",
    "        mid = left + (right - left) // 2\n",
    "\n",
    "        if nums[mid] == target:\n",
    "            return mid\n",
    "        elif nums[mid] < target:\n",
    "            left = mid + 1\n",
    "        else:\n",
    "            right = mid - 1\n",
    "\n",
    "\n",
    "    return left\n",
    "nums = input(\"Enter the elements of the array: \").split()\n",
    "nums = [int(num) for num in nums]\n",
    "\n",
    "target = int(input(\"Enter the target value: \"))\n",
    "\n",
    "result = searchInsert(nums, target)\n",
    "print(f\"Output: {result}\")\n"
   ]
  },
  {
   "cell_type": "code",
   "execution_count": 5,
   "id": "99817398",
   "metadata": {},
   "outputs": [
    {
     "name": "stdout",
     "output_type": "stream",
     "text": [
      "Enter the digits of the large integer: 1 2 3\n",
      "Output: [1, 2, 4]\n"
     ]
    }
   ],
   "source": [
    "def plusOne(digits):\n",
    "    n = len(digits)\n",
    "    carry = 1\n",
    "\n",
    "    for i in range(n - 1, -1, -1):\n",
    "        digits[i] += carry\n",
    "        carry = digits[i] // 10\n",
    "        digits[i] %= 10\n",
    "\n",
    "        if carry == 0:\n",
    "            break\n",
    "\n",
    "    if carry == 1:\n",
    "        digits.insert(0, 1)\n",
    "\n",
    "    return digits\n",
    "\n",
    "digits = input(\"Enter the digits of the large integer: \").split()\n",
    "digits = [int(digit) for digit in digits]\n",
    "\n",
    "result = plusOne(digits)\n",
    "print(f\"Output: {result}\")\n"
   ]
  },
  {
   "cell_type": "code",
   "execution_count": 6,
   "id": "8e664692",
   "metadata": {},
   "outputs": [
    {
     "name": "stdout",
     "output_type": "stream",
     "text": [
      "Enter the elements of the array: 2 2 1\n",
      "Output: 1\n"
     ]
    }
   ],
   "source": [
    "def singleNumber(nums):\n",
    "    result = 0\n",
    "\n",
    "    for num in nums:\n",
    "        result ^= num\n",
    "\n",
    "    return result\n",
    "\n",
    "nums = input(\"Enter the elements of the array: \").split()\n",
    "nums = [int(num) for num in nums]\n",
    "\n",
    "result = singleNumber(nums)\n",
    "print(f\"Output: {result}\")\n"
   ]
  },
  {
   "cell_type": "code",
   "execution_count": 7,
   "id": "97e73325",
   "metadata": {},
   "outputs": [
    {
     "name": "stdout",
     "output_type": "stream",
     "text": [
      "Enter the elements of the array: 0 1 3 50 75\n",
      "Enter the lower bound: 0\n",
      "Enter the upper bound: 99\n",
      "Output: ['2', '4->49', '51->74', '76->99']\n"
     ]
    }
   ],
   "source": [
    "def findMissingRanges(nums, lower, upper):\n",
    "    missingRanges = []\n",
    "    prev = lower - 1\n",
    "\n",
    "    for num in nums + [upper + 1]:\n",
    "        if prev + 1 <= num - 1:\n",
    "            missingRanges.append(getRange(prev + 1, num - 1))\n",
    "        prev = num\n",
    "\n",
    "    return missingRanges\n",
    "\n",
    "def getRange(start, end):\n",
    "    if start == end:\n",
    "        return str(start)\n",
    "    else:\n",
    "        return str(start) + \"->\" + str(end)\n",
    "\n",
    "nums = input(\"Enter the elements of the array: \").split()\n",
    "nums = [int(num) for num in nums]\n",
    "\n",
    "lower = int(input(\"Enter the lower bound: \"))\n",
    "upper = int(input(\"Enter the upper bound: \"))\n",
    "\n",
    "result = findMissingRanges(nums, lower, upper)\n",
    "print(f\"Output: {result}\")\n"
   ]
  },
  {
   "cell_type": "code",
   "execution_count": 2,
   "id": "c4fafbcf",
   "metadata": {},
   "outputs": [
    {
     "name": "stdout",
     "output_type": "stream",
     "text": [
      "Enter the number of intervals: 3\n",
      "Enter the start time of interval 1: 0\n",
      "Enter the end time of interval 1: 30\n",
      "Enter the start time of interval 2: 5\n",
      "Enter the end time of interval 2: 10\n",
      "Enter the start time of interval 3: 15\n",
      "Enter the end time of interval 3: 20\n",
      "Output: False\n"
     ]
    }
   ],
   "source": [
    "def canAttendMeetings(intervals):\n",
    "    intervals.sort(key=lambda x: x[0]) \n",
    "\n",
    "    for i in range(1, len(intervals)):\n",
    "        if intervals[i][0] < intervals[i-1][1]:\n",
    "            return False\n",
    "\n",
    "    return True\n",
    "\n",
    "intervals = []\n",
    "n = int(input(\"Enter the number of intervals: \"))\n",
    "\n",
    "for i in range(n):\n",
    "    start = int(input(f\"Enter the start time of interval {i+1}: \"))\n",
    "    end = int(input(f\"Enter the end time of interval {i+1}: \"))\n",
    "    intervals.append([start, end])\n",
    "\n",
    "result = canAttendMeetings(intervals)\n",
    "print(f\"Output: {result}\")\n"
   ]
  },
  {
   "cell_type": "code",
   "execution_count": null,
   "id": "95bf1c19",
   "metadata": {},
   "outputs": [],
   "source": []
  }
 ],
 "metadata": {
  "kernelspec": {
   "display_name": "Python 3 (ipykernel)",
   "language": "python",
   "name": "python3"
  },
  "language_info": {
   "codemirror_mode": {
    "name": "ipython",
    "version": 3
   },
   "file_extension": ".py",
   "mimetype": "text/x-python",
   "name": "python",
   "nbconvert_exporter": "python",
   "pygments_lexer": "ipython3",
   "version": "3.9.12"
  }
 },
 "nbformat": 4,
 "nbformat_minor": 5
}
