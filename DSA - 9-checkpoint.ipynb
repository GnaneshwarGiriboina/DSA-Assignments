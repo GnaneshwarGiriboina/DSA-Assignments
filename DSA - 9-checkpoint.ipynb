{
 "cells": [
  {
   "cell_type": "code",
   "execution_count": 3,
   "id": "2f29d1e1",
   "metadata": {},
   "outputs": [
    {
     "name": "stdout",
     "output_type": "stream",
     "text": [
      "Enter an integer: 3\n",
      "False\n"
     ]
    }
   ],
   "source": [
    "def is_power_of_two(n):\n",
    "    return n > 0 and (n & (n - 1)) == 0\n",
    "\n",
    "try:\n",
    "    n = int(input(\"Enter an integer: \"))\n",
    "    print(is_power_of_two(n))\n",
    "except ValueError:\n",
    "    print(\"Invalid input. Please enter a valid integer.\")\n"
   ]
  },
  {
   "cell_type": "code",
   "execution_count": 4,
   "id": "650dd85b",
   "metadata": {},
   "outputs": [
    {
     "name": "stdout",
     "output_type": "stream",
     "text": [
      "Enter a positive integer: 3\n",
      "Sum of the first 3 natural numbers is: 6\n"
     ]
    }
   ],
   "source": [
    "def sum_of_natural_numbers(n):\n",
    "    return n * (n + 1) // 2\n",
    "\n",
    "try:\n",
    "    n = int(input(\"Enter a positive integer: \"))\n",
    "    if n <= 0:\n",
    "        print(\"Please enter a positive integer.\")\n",
    "    else:\n",
    "        result = sum_of_natural_numbers(n)\n",
    "        print(\"Sum of the first\", n, \"natural numbers is:\", result)\n",
    "except ValueError:\n",
    "    print(\"Invalid input. Please enter a valid integer.\")\n"
   ]
  },
  {
   "cell_type": "code",
   "execution_count": 5,
   "id": "c4503d37",
   "metadata": {},
   "outputs": [
    {
     "name": "stdout",
     "output_type": "stream",
     "text": [
      "Enter a positive integer: 5\n",
      "Factorial of 5 is: 120\n"
     ]
    }
   ],
   "source": [
    "def factorial(N):\n",
    "    if N == 0 or N == 1:\n",
    "        return 1\n",
    "\n",
    "    result = 1\n",
    "    for i in range(2, N + 1):\n",
    "        result *= i\n",
    "    return result\n",
    "\n",
    "try:\n",
    "    N = int(input(\"Enter a positive integer: \"))\n",
    "    if N < 0:\n",
    "        print(\"Please enter a positive integer.\")\n",
    "    else:\n",
    "        result = factorial(N)\n",
    "        print(\"Factorial of\", N, \"is:\", result)\n",
    "except ValueError:\n",
    "    print(\"Invalid input. Please enter a valid integer.\")\n"
   ]
  },
  {
   "cell_type": "code",
   "execution_count": 8,
   "id": "3bb8926d",
   "metadata": {},
   "outputs": [
    {
     "name": "stdout",
     "output_type": "stream",
     "text": [
      "Enter the base number (N): 2\n",
      "Enter the power (P): 5\n",
      "Result: 32\n"
     ]
    }
   ],
   "source": [
    "def find_exponent(N, P):\n",
    "    return int(N ** P)\n",
    "\n",
    "try:\n",
    "    N = int(input(\"Enter the base number (N): \"))\n",
    "    P = int(input(\"Enter the power (P): \"))\n",
    "\n",
    "    result = find_exponent(N, P)\n",
    "    print(\"Result:\", result)\n",
    "except ValueError:\n",
    "    print(\"Invalid input. Please enter valid integers.\")\n",
    "\n"
   ]
  },
  {
   "cell_type": "code",
   "execution_count": 10,
   "id": "a174558c",
   "metadata": {},
   "outputs": [
    {
     "name": "stdout",
     "output_type": "stream",
     "text": [
      "Enter the array elements: 1 4 3 -5 -5 8 6\n",
      "Maximum element in the array: 8\n"
     ]
    }
   ],
   "source": [
    "def find_max_recursive(arr, index):\n",
    "    if index == len(arr) - 1:\n",
    "        return arr[index]\n",
    "    \n",
    "    return max(arr[index], find_max_recursive(arr, index + 1))\n",
    "\n",
    "def find_max(arr):\n",
    "    if not arr:\n",
    "        return None\n",
    "\n",
    "    return find_max_recursive(arr, 0)\n",
    "\n",
    "try:\n",
    "    input_str = input(\"Enter the array elements: \")\n",
    "    arr = [int(x) for x in input_str.split()]\n",
    "    \n",
    "    result = find_max(arr)\n",
    "    if result is not None:\n",
    "        print(\"Maximum element in the array:\", result)\n",
    "    else:\n",
    "        print(\"Array is empty.\")\n",
    "except ValueError:\n",
    "    print(\"Invalid input\")\n"
   ]
  },
  {
   "cell_type": "code",
   "execution_count": 12,
   "id": "357a1cd1",
   "metadata": {},
   "outputs": [
    {
     "name": "stdout",
     "output_type": "stream",
     "text": [
      "Enter the first term (a)2\n",
      "Enter the common difference (d): 1\n",
      "Enter the position of the term want to find (N): 5\n",
      "The 5 th term of the AP series is: 6\n"
     ]
    }
   ],
   "source": [
    "def find_nth_term(a, d, N):\n",
    "    return a + (N - 1) * d\n",
    "\n",
    "try:\n",
    "    a = int(input(\"Enter the first term (a)\"))\n",
    "    d = int(input(\"Enter the common difference (d): \"))\n",
    "    N = int(input(\"Enter the position of the term want to find (N): \"))\n",
    "\n",
    "    result = find_nth_term(a, d, N)\n",
    "    print(\"The\", N, \"th term of the AP series is:\", result)\n",
    "except ValueError:\n",
    "    print(\"Invalid input. Please enter valid integers.\")\n"
   ]
  },
  {
   "cell_type": "code",
   "execution_count": 1,
   "id": "3d1e2747",
   "metadata": {},
   "outputs": [
    {
     "name": "stdout",
     "output_type": "stream",
     "text": [
      "Enter the string to find permutations: ABC\n",
      "ABC\n",
      "ACB\n",
      "BAC\n",
      "BCA\n",
      "CBA\n",
      "CAB\n"
     ]
    }
   ],
   "source": [
    "def permute_string(s, l, r):\n",
    "    if l == r:\n",
    "        print(''.join(s))\n",
    "    else:\n",
    "        for i in range(l, r + 1):\n",
    "            s[l], s[i] = s[i], s[l]\n",
    "            permute_string(s, l + 1, r)\n",
    "            s[l], s[i] = s[i], s[l]\n",
    "\n",
    "def print_all_permutations():\n",
    "    S = input(\"Enter the string to find permutations: \")\n",
    "    s = list(S)\n",
    "    n = len(s)\n",
    "    permute_string(s, 0, n - 1)\n",
    "\n",
    "print_all_permutations()\n",
    "\n"
   ]
  },
  {
   "cell_type": "code",
   "execution_count": 2,
   "id": "24eaddd0",
   "metadata": {},
   "outputs": [
    {
     "name": "stdout",
     "output_type": "stream",
     "text": [
      "Enter the array elements: 1 2 3 4 5\n",
      "Product of all elements in the array: 120\n"
     ]
    }
   ],
   "source": [
    "def find_product(arr):\n",
    "    product = 1\n",
    "    for num in arr:\n",
    "        product *= num\n",
    "    return product\n",
    "\n",
    "try:\n",
    "    input_str = input(\"Enter the array elements: \")\n",
    "    arr = [int(x) for x in input_str.split()]\n",
    "    \n",
    "    result = find_product(arr)\n",
    "    print(\"Product of all elements in the array:\", result)\n",
    "except ValueError:\n",
    "    print(\"Invalid input.\")\n"
   ]
  },
  {
   "cell_type": "code",
   "execution_count": null,
   "id": "830240b9",
   "metadata": {},
   "outputs": [],
   "source": []
  }
 ],
 "metadata": {
  "kernelspec": {
   "display_name": "Python 3 (ipykernel)",
   "language": "python",
   "name": "python3"
  },
  "language_info": {
   "codemirror_mode": {
    "name": "ipython",
    "version": 3
   },
   "file_extension": ".py",
   "mimetype": "text/x-python",
   "name": "python",
   "nbconvert_exporter": "python",
   "pygments_lexer": "ipython3",
   "version": "3.9.12"
  }
 },
 "nbformat": 4,
 "nbformat_minor": 5
}
