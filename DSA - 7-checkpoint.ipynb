{
 "cells": [
  {
   "cell_type": "code",
   "execution_count": 1,
   "id": "ef037d68",
   "metadata": {},
   "outputs": [
    {
     "name": "stdout",
     "output_type": "stream",
     "text": [
      "Enter the first string (s): egg\n",
      "Enter the second string (t): add\n",
      "Output: True\n"
     ]
    }
   ],
   "source": [
    "def isIsomorphic(s, t):\n",
    "    if len(s) != len(t):\n",
    "        return False\n",
    "\n",
    "    s_to_t = {}\n",
    "    t_to_s = {}\n",
    "\n",
    "    for i in range(len(s)):\n",
    "        char_s = s[i]\n",
    "        char_t = t[i]\n",
    "\n",
    "        if char_s in s_to_t:\n",
    "            if s_to_t[char_s] != char_t:\n",
    "                return False\n",
    "        else:\n",
    "            s_to_t[char_s] = char_t\n",
    "\n",
    "        if char_t in t_to_s:\n",
    "            if t_to_s[char_t] != char_s:\n",
    "                return False\n",
    "        else:\n",
    "            t_to_s[char_t] = char_s\n",
    "\n",
    "    return True\n",
    "\n",
    "s = input(\"Enter the first string (s): \")\n",
    "t = input(\"Enter the second string (t): \")\n",
    "\n",
    "result = isIsomorphic(s, t)\n",
    "print(f\"Output: {result}\")\n"
   ]
  },
  {
   "cell_type": "code",
   "execution_count": 3,
   "id": "0c379602",
   "metadata": {},
   "outputs": [
    {
     "name": "stdout",
     "output_type": "stream",
     "text": [
      "Enter the string num: 69\n",
      "Output: True\n"
     ]
    }
   ],
   "source": [
    "def isStrobogrammatic(num):\n",
    "    valid_pairs = {\"0\": \"0\", \"1\": \"1\", \"6\": \"9\", \"8\": \"8\", \"9\": \"6\"}\n",
    "\n",
    "    left = 0\n",
    "    right = len(num) - 1\n",
    "\n",
    "    while left <= right:\n",
    "        if num[left] not in valid_pairs or num[right] not in valid_pairs:\n",
    "            return False\n",
    "\n",
    "        if valid_pairs[num[left]] != num[right]:\n",
    "            return False\n",
    "\n",
    "        left += 1\n",
    "        right -= 1\n",
    "\n",
    "    return True\n",
    "\n",
    "num = input(\"Enter the string num: \")\n",
    "\n",
    "result = isStrobogrammatic(num)\n",
    "print(f\"Output: {result}\")\n"
   ]
  },
  {
   "cell_type": "code",
   "execution_count": 4,
   "id": "11883a33",
   "metadata": {},
   "outputs": [
    {
     "name": "stdout",
     "output_type": "stream",
     "text": [
      "Enter the first number (num1): 11\n",
      "Enter the second number (num2): 123\n",
      "Output: 134\n"
     ]
    }
   ],
   "source": [
    "def addStrings(num1, num2):\n",
    "    result = []\n",
    "    carry = 0\n",
    "    i = len(num1) - 1\n",
    "    j = len(num2) - 1\n",
    "\n",
    "    while i >= 0 or j >= 0 or carry != 0:\n",
    "        digit1 = int(num1[i]) if i >= 0 else 0\n",
    "        digit2 = int(num2[j]) if j >= 0 else 0\n",
    "\n",
    "        current_sum = digit1 + digit2 + carry\n",
    "        carry = current_sum // 10\n",
    "        current_digit = current_sum % 10\n",
    "\n",
    "        result.append(str(current_digit))\n",
    "\n",
    "        i -= 1\n",
    "        j -= 1\n",
    "\n",
    "    result.reverse()\n",
    "    return \"\".join(result)\n",
    "\n",
    "num1 = input(\"Enter the first number (num1): \")\n",
    "num2 = input(\"Enter the second number (num2): \")\n",
    "\n",
    "result = addStrings(num1, num2)\n",
    "print(f\"Output: {result}\")\n"
   ]
  },
  {
   "cell_type": "code",
   "execution_count": 5,
   "id": "fbc09ffa",
   "metadata": {},
   "outputs": [
    {
     "name": "stdout",
     "output_type": "stream",
     "text": [
      "Enter the sentence: Let's take LeetCode contest\n",
      "Output: s'teL ekat edoCteeL tsetnoc\n"
     ]
    }
   ],
   "source": [
    "def reverseWords(s):\n",
    "    words = s.split()  \n",
    "    reversed_words = [word[::-1] for word in words]  \n",
    "    return \" \".join(reversed_words)  \n",
    "\n",
    "s = input(\"Enter the sentence: \")\n",
    "\n",
    "result = reverseWords(s)\n",
    "print(f\"Output: {result}\")\n"
   ]
  },
  {
   "cell_type": "code",
   "execution_count": 6,
   "id": "f565749a",
   "metadata": {},
   "outputs": [
    {
     "name": "stdout",
     "output_type": "stream",
     "text": [
      "Enter the string s: abcdefg\n",
      "Enter the value of k: 2\n",
      "Output: bacdfeg\n"
     ]
    }
   ],
   "source": [
    "def reverseStr(s, k):\n",
    "    s = list(s)\n",
    "    n = len(s)\n",
    "\n",
    "    for i in range(0, n, 2 * k):\n",
    "        left = i\n",
    "        right = min(i + k - 1, n - 1) \n",
    "        while left < right:\n",
    "            s[left], s[right] = s[right], s[left]\n",
    "            left += 1\n",
    "            right -= 1\n",
    "\n",
    "    return \"\".join(s)\n",
    "\n",
    "s = input(\"Enter the string s: \")\n",
    "k = int(input(\"Enter the value of k: \"))\n",
    "\n",
    "result = reverseStr(s, k)\n",
    "print(f\"Output: {result}\")\n"
   ]
  },
  {
   "cell_type": "code",
   "execution_count": 7,
   "id": "e3782986",
   "metadata": {},
   "outputs": [
    {
     "name": "stdout",
     "output_type": "stream",
     "text": [
      "Enter the string s: abcde\n",
      "Enter the string goal: cdeab\n",
      "Output: True\n"
     ]
    }
   ],
   "source": [
    "def rotateString(s, goal):\n",
    "    if len(s) != len(goal):\n",
    "        return False\n",
    "\n",
    "    concatenated = s + s\n",
    "\n",
    "    return goal in concatenated\n",
    "\n",
    "s = input(\"Enter the string s: \")\n",
    "goal = input(\"Enter the string goal: \")\n",
    "\n",
    "result = rotateString(s, goal)\n",
    "print(f\"Output: {result}\")\n"
   ]
  },
  {
   "cell_type": "code",
   "execution_count": 8,
   "id": "1bf70cdd",
   "metadata": {},
   "outputs": [
    {
     "name": "stdout",
     "output_type": "stream",
     "text": [
      "Enter the string s: ab#c\n",
      "Enter the string t: ad#c\n",
      "Output: True\n"
     ]
    }
   ],
   "source": [
    "def buildString(s):\n",
    "    stack = []\n",
    "    for char in s:\n",
    "        if char != '#':\n",
    "            stack.append(char)\n",
    "        elif stack:\n",
    "            stack.pop()\n",
    "    return ''.join(stack)\n",
    "\n",
    "def backspaceCompare(s, t):\n",
    "    return buildString(s) == buildString(t)\n",
    "\n",
    "s = input(\"Enter the string s: \")\n",
    "t = input(\"Enter the string t: \")\n",
    "\n",
    "result = backspaceCompare(s, t)\n",
    "print(f\"Output: {result}\")\n"
   ]
  },
  {
   "cell_type": "code",
   "execution_count": 10,
   "id": "5d272350",
   "metadata": {},
   "outputs": [
    {
     "name": "stdout",
     "output_type": "stream",
     "text": [
      "Enter the number of points: 6\n",
      "Enter the x-coordinate for point 1: 1\n",
      "Enter the y-coordinate for point 1: 2\n",
      "Enter the x-coordinate for point 2: 2\n",
      "Enter the y-coordinate for point 2: 3\n",
      "Enter the x-coordinate for point 3: 3\n",
      "Enter the y-coordinate for point 3: 4\n",
      "Enter the x-coordinate for point 4: 4\n",
      "Enter the y-coordinate for point 4: 5\n",
      "Enter the x-coordinate for point 5: 5\n",
      "Enter the y-coordinate for point 5: 6\n",
      "Enter the x-coordinate for point 6: 6\n",
      "Enter the y-coordinate for point 6: 7\n",
      "Output: True\n"
     ]
    }
   ],
   "source": [
    "def checkStraightLine(coordinates):\n",
    "    if len(coordinates) <= 2:\n",
    "        return True\n",
    "\n",
    "    x1, y1 = coordinates[0]\n",
    "    x2, y2 = coordinates[1]\n",
    "    for i in range(2, len(coordinates)):\n",
    "        x, y = coordinates[i]\n",
    "        if (y - y1) * (x2 - x1) != (x - x1) * (y2 - y1):\n",
    "            return False\n",
    "\n",
    "    return True\n",
    "\n",
    "coordinates = []\n",
    "n = int(input(\"Enter the number of points: \"))\n",
    "for i in range(n):\n",
    "    x = int(input(f\"Enter the x-coordinate for point {i+1}: \"))\n",
    "    y = int(input(f\"Enter the y-coordinate for point {i+1}: \"))\n",
    "    coordinates.append([x, y])\n",
    "\n",
    "result = checkStraightLine(coordinates)\n",
    "print(f\"Output: {result}\")\n"
   ]
  },
  {
   "cell_type": "code",
   "execution_count": null,
   "id": "abcf8597",
   "metadata": {},
   "outputs": [],
   "source": []
  }
 ],
 "metadata": {
  "kernelspec": {
   "display_name": "Python 3 (ipykernel)",
   "language": "python",
   "name": "python3"
  },
  "language_info": {
   "codemirror_mode": {
    "name": "ipython",
    "version": 3
   },
   "file_extension": ".py",
   "mimetype": "text/x-python",
   "name": "python",
   "nbconvert_exporter": "python",
   "pygments_lexer": "ipython3",
   "version": "3.9.12"
  }
 },
 "nbformat": 4,
 "nbformat_minor": 5
}
